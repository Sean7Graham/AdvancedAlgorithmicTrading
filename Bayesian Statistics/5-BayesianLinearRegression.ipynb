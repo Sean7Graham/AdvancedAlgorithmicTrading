{
 "cells": [
  {
   "cell_type": "markdown",
   "metadata": {},
   "source": []
  },
  {
   "cell_type": "code",
   "execution_count": 21,
   "metadata": {},
   "outputs": [
    {
     "ename": "IndexError",
     "evalue": "only integers, slices (`:`), ellipsis (`...`), numpy.newaxis (`None`) and integer or boolean arrays are valid indices",
     "output_type": "error",
     "traceback": [
      "\u001b[1;31m---------------------------------------------------------------------------\u001b[0m",
      "\u001b[1;31mIndexError\u001b[0m                                Traceback (most recent call last)",
      "\u001b[1;32mc:\\Users\\Sean\\OneDrive\\Engineering\\Python\\AdvancedAlgorithmicTrading\\Bayesian Statistics\\5-BayesianLinearRegression.ipynb Cell 2\u001b[0m line \u001b[0;36m3\n\u001b[0;32m     <a href='vscode-notebook-cell:/c%3A/Users/Sean/OneDrive/Engineering/Python/AdvancedAlgorithmicTrading/Bayesian%20Statistics/5-BayesianLinearRegression.ipynb#W0sZmlsZQ%3D%3D?line=30'>31</a>\u001b[0m N \u001b[39m=\u001b[39m \u001b[39m200\u001b[39m\n\u001b[0;32m     <a href='vscode-notebook-cell:/c%3A/Users/Sean/OneDrive/Engineering/Python/AdvancedAlgorithmicTrading/Bayesian%20Statistics/5-BayesianLinearRegression.ipynb#W0sZmlsZQ%3D%3D?line=31'>32</a>\u001b[0m eps_sigma_sq \u001b[39m=\u001b[39m \u001b[39m0.5\u001b[39m\n\u001b[1;32m---> <a href='vscode-notebook-cell:/c%3A/Users/Sean/OneDrive/Engineering/Python/AdvancedAlgorithmicTrading/Bayesian%20Statistics/5-BayesianLinearRegression.ipynb#W0sZmlsZQ%3D%3D?line=32'>33</a>\u001b[0m df \u001b[39m=\u001b[39m simulate_linear_data(N, beta_0, beta_1, eps_sigma_sq)\n\u001b[0;32m     <a href='vscode-notebook-cell:/c%3A/Users/Sean/OneDrive/Engineering/Python/AdvancedAlgorithmicTrading/Bayesian%20Statistics/5-BayesianLinearRegression.ipynb#W0sZmlsZQ%3D%3D?line=33'>34</a>\u001b[0m sns\u001b[39m.\u001b[39mlmplot(x\u001b[39m=\u001b[39m\u001b[39m\"\u001b[39m\u001b[39mx\u001b[39m\u001b[39m\"\u001b[39m, y\u001b[39m=\u001b[39m\u001b[39m\"\u001b[39m\u001b[39my\u001b[39m\u001b[39m\"\u001b[39m, data\u001b[39m=\u001b[39mdf, size\u001b[39m=\u001b[39m\u001b[39m10\u001b[39m)\n\u001b[0;32m     <a href='vscode-notebook-cell:/c%3A/Users/Sean/OneDrive/Engineering/Python/AdvancedAlgorithmicTrading/Bayesian%20Statistics/5-BayesianLinearRegression.ipynb#W0sZmlsZQ%3D%3D?line=34'>35</a>\u001b[0m plt\u001b[39m.\u001b[39mxlim(\u001b[39m0.0\u001b[39m, \u001b[39m1.0\u001b[39m)\n",
      "\u001b[1;32mc:\\Users\\Sean\\OneDrive\\Engineering\\Python\\AdvancedAlgorithmicTrading\\Bayesian Statistics\\5-BayesianLinearRegression.ipynb Cell 2\u001b[0m line \u001b[0;36m1\n\u001b[0;32m      <a href='vscode-notebook-cell:/c%3A/Users/Sean/OneDrive/Engineering/Python/AdvancedAlgorithmicTrading/Bayesian%20Statistics/5-BayesianLinearRegression.ipynb#W0sZmlsZQ%3D%3D?line=8'>9</a>\u001b[0m df \u001b[39m=\u001b[39m np\u001b[39m.\u001b[39mrandom\u001b[39m.\u001b[39mRandomState(\u001b[39m42\u001b[39m)\u001b[39m.\u001b[39mchoice(np\u001b[39m.\u001b[39marange(N) \u001b[39m/\u001b[39m \u001b[39m100.0\u001b[39m, N, replace\u001b[39m=\u001b[39m\u001b[39mFalse\u001b[39;00m)\n\u001b[0;32m     <a href='vscode-notebook-cell:/c%3A/Users/Sean/OneDrive/Engineering/Python/AdvancedAlgorithmicTrading/Bayesian%20Statistics/5-BayesianLinearRegression.ipynb#W0sZmlsZQ%3D%3D?line=9'>10</a>\u001b[0m eps_mean \u001b[39m=\u001b[39m \u001b[39m0.0\u001b[39m\n\u001b[1;32m---> <a href='vscode-notebook-cell:/c%3A/Users/Sean/OneDrive/Engineering/Python/AdvancedAlgorithmicTrading/Bayesian%20Statistics/5-BayesianLinearRegression.ipynb#W0sZmlsZQ%3D%3D?line=10'>11</a>\u001b[0m df[\u001b[39m\"\u001b[39m\u001b[39my\u001b[39m\u001b[39m\"\u001b[39m] \u001b[39m=\u001b[39m beta_0 \u001b[39m+\u001b[39m beta_1\u001b[39m*\u001b[39mdf[\u001b[39m\"\u001b[39;49m\u001b[39mx\u001b[39;49m\u001b[39m\"\u001b[39;49m] \u001b[39m+\u001b[39m np\u001b[39m.\u001b[39mrandom\u001b[39m.\u001b[39mRandomState(\u001b[39m42\u001b[39m)\u001b[39m.\u001b[39mnormal(\n\u001b[0;32m     <a href='vscode-notebook-cell:/c%3A/Users/Sean/OneDrive/Engineering/Python/AdvancedAlgorithmicTrading/Bayesian%20Statistics/5-BayesianLinearRegression.ipynb#W0sZmlsZQ%3D%3D?line=11'>12</a>\u001b[0m eps_mean, eps_sigma_sq, N\n\u001b[0;32m     <a href='vscode-notebook-cell:/c%3A/Users/Sean/OneDrive/Engineering/Python/AdvancedAlgorithmicTrading/Bayesian%20Statistics/5-BayesianLinearRegression.ipynb#W0sZmlsZQ%3D%3D?line=12'>13</a>\u001b[0m )\n\u001b[0;32m     <a href='vscode-notebook-cell:/c%3A/Users/Sean/OneDrive/Engineering/Python/AdvancedAlgorithmicTrading/Bayesian%20Statistics/5-BayesianLinearRegression.ipynb#W0sZmlsZQ%3D%3D?line=13'>14</a>\u001b[0m \u001b[39mreturn\u001b[39;00m df\n",
      "\u001b[1;31mIndexError\u001b[0m: only integers, slices (`:`), ellipsis (`...`), numpy.newaxis (`None`) and integer or boolean arrays are valid indices"
     ]
    }
   ],
   "source": [
    "import matplotlib.pyplot as plt\n",
    "import numpy as np\n",
    "import pandas as pd\n",
    "import pymc3 as pm\n",
    "import seaborn as sns\n",
    "sns.set(style=\"darkgrid\", palette=\"muted\")\n",
    "def simulate_linear_data(N, beta_0, beta_1, eps_sigma_sq):\n",
    "   \n",
    "    df = np.random.RandomState(42).choice(np.arange(N) / 100.0, N, replace=False)\n",
    "    eps_mean = 0.0\n",
    "    df[\"y\"] = beta_0 + beta_1*df[\"x\"] + np.random.RandomState(42).normal(\n",
    "    eps_mean, eps_sigma_sq, N\n",
    "    )\n",
    "    return df\n",
    "\n",
    "def glm_mcmc_inference(df, iterations=5000):\n",
    "    basic_model = pm.Model()\n",
    "    with basic_model:\n",
    "\n",
    "        pm.glm.glm(\"y ~ x\", df, family=pm.glm.families.Normal())\n",
    "        start = pm.find_MAP()\n",
    "        step = pm.NUTS()\n",
    "        trace = pm.sample(\n",
    "            iterations, step, start,\n",
    "            random_seed=42, progressbar=True\n",
    "        )\n",
    "    return trace\n",
    "if __name__ == \"__main__\":\n",
    "    beta_0 = 1.0 # Intercept\n",
    "    beta_1 = 2.0 # Slope\n",
    "    N = 200\n",
    "    eps_sigma_sq = 0.5\n",
    "    df = simulate_linear_data(N, beta_0, beta_1, eps_sigma_sq)\n",
    "    sns.lmplot(x=\"x\", y=\"y\", data=df, size=10)\n",
    "    plt.xlim(0.0, 1.0)\n",
    "    trace = glm_mcmc_inference(df, iterations=5000)\n",
    "    pm.traceplot(trace[500:])\n",
    "    plt.show()\n",
    "    sns.lmplot(x=\"x\", y=\"y\", data=df, size=10, fit_reg=False)\n",
    "    plt.xlim(0.0, 1.0)\n",
    "    plt.ylim(0.0, 4.0)\n",
    "    pm.glm.plot_posterior_predictive(trace, samples=100)\n",
    "    x = np.linspace(0, 1, N)\n",
    "    y = beta_0 + beta_1*x\n",
    "    plt.plot(x, y, label=\"True Regression Line\", lw=3., c=\"green\")\n",
    "    plt.legend(loc=0)\n",
    "    plt.show()"
   ]
  }
 ],
 "metadata": {
  "kernelspec": {
   "display_name": "pymc3_env",
   "language": "python",
   "name": "python3"
  },
  "language_info": {
   "codemirror_mode": {
    "name": "ipython",
    "version": 3
   },
   "file_extension": ".py",
   "mimetype": "text/x-python",
   "name": "python",
   "nbconvert_exporter": "python",
   "pygments_lexer": "ipython3",
   "version": "3.8.17"
  },
  "orig_nbformat": 4
 },
 "nbformat": 4,
 "nbformat_minor": 2
}
