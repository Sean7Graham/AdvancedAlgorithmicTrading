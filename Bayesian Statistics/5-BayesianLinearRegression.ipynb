{
 "cells": [
  {
   "cell_type": "markdown",
   "metadata": {},
   "source": []
  },
  {
   "cell_type": "code",
   "execution_count": 4,
   "metadata": {},
   "outputs": [
    {
     "ename": "AttributeError",
     "evalue": "partially initialized module 'theano' has no attribute 'compile' (most likely due to a circular import)",
     "output_type": "error",
     "traceback": [
      "\u001b[1;31m---------------------------------------------------------------------------\u001b[0m",
      "\u001b[1;31mAttributeError\u001b[0m                            Traceback (most recent call last)",
      "\u001b[1;32mc:\\Users\\Sean\\OneDrive\\Engineering\\Python\\AdvancedAlgorithmicTrading\\Bayesian Statistics\\5-BayesianLinearRegression.ipynb Cell 2\u001b[0m line \u001b[0;36m4\n\u001b[0;32m      <a href='vscode-notebook-cell:/c%3A/Users/Sean/OneDrive/Engineering/Python/AdvancedAlgorithmicTrading/Bayesian%20Statistics/5-BayesianLinearRegression.ipynb#W1sZmlsZQ%3D%3D?line=1'>2</a>\u001b[0m \u001b[39mimport\u001b[39;00m \u001b[39mnumpy\u001b[39;00m \u001b[39mas\u001b[39;00m \u001b[39mnp\u001b[39;00m\n\u001b[0;32m      <a href='vscode-notebook-cell:/c%3A/Users/Sean/OneDrive/Engineering/Python/AdvancedAlgorithmicTrading/Bayesian%20Statistics/5-BayesianLinearRegression.ipynb#W1sZmlsZQ%3D%3D?line=2'>3</a>\u001b[0m \u001b[39mimport\u001b[39;00m \u001b[39mpandas\u001b[39;00m \u001b[39mas\u001b[39;00m \u001b[39mpd\u001b[39;00m\n\u001b[1;32m----> <a href='vscode-notebook-cell:/c%3A/Users/Sean/OneDrive/Engineering/Python/AdvancedAlgorithmicTrading/Bayesian%20Statistics/5-BayesianLinearRegression.ipynb#W1sZmlsZQ%3D%3D?line=3'>4</a>\u001b[0m \u001b[39mimport\u001b[39;00m \u001b[39mpymc3\u001b[39;00m \u001b[39mas\u001b[39;00m \u001b[39mpm\u001b[39;00m\n\u001b[0;32m      <a href='vscode-notebook-cell:/c%3A/Users/Sean/OneDrive/Engineering/Python/AdvancedAlgorithmicTrading/Bayesian%20Statistics/5-BayesianLinearRegression.ipynb#W1sZmlsZQ%3D%3D?line=4'>5</a>\u001b[0m \u001b[39mimport\u001b[39;00m \u001b[39mseaborn\u001b[39;00m \u001b[39mas\u001b[39;00m \u001b[39msns\u001b[39;00m\n\u001b[0;32m      <a href='vscode-notebook-cell:/c%3A/Users/Sean/OneDrive/Engineering/Python/AdvancedAlgorithmicTrading/Bayesian%20Statistics/5-BayesianLinearRegression.ipynb#W1sZmlsZQ%3D%3D?line=5'>6</a>\u001b[0m sns\u001b[39m.\u001b[39mset(style\u001b[39m=\u001b[39m\u001b[39m\"\u001b[39m\u001b[39mdarkgrid\u001b[39m\u001b[39m\"\u001b[39m, palette\u001b[39m=\u001b[39m\u001b[39m\"\u001b[39m\u001b[39mmuted\u001b[39m\u001b[39m\"\u001b[39m)\n",
      "File \u001b[1;32mc:\\Users\\Sean\\anaconda3\\Lib\\site-packages\\pymc3\\__init__.py:23\u001b[0m\n\u001b[0;32m     20\u001b[0m \u001b[39mimport\u001b[39;00m \u001b[39mplatform\u001b[39;00m\n\u001b[0;32m     22\u001b[0m \u001b[39mimport\u001b[39;00m \u001b[39msemver\u001b[39;00m\n\u001b[1;32m---> 23\u001b[0m \u001b[39mimport\u001b[39;00m \u001b[39mtheano\u001b[39;00m\n\u001b[0;32m     25\u001b[0m _log \u001b[39m=\u001b[39m logging\u001b[39m.\u001b[39mgetLogger(\u001b[39m\"\u001b[39m\u001b[39mpymc3\u001b[39m\u001b[39m\"\u001b[39m)\n\u001b[0;32m     27\u001b[0m \u001b[39mif\u001b[39;00m \u001b[39mnot\u001b[39;00m logging\u001b[39m.\u001b[39mroot\u001b[39m.\u001b[39mhandlers:\n",
      "File \u001b[1;32mc:\\Users\\Sean\\anaconda3\\Lib\\site-packages\\theano\\__init__.py:83\u001b[0m\n\u001b[0;32m     75\u001b[0m \u001b[39m# This is the api version for ops that generate C code.  External ops\u001b[39;00m\n\u001b[0;32m     76\u001b[0m \u001b[39m# might need manual changes if this number goes up.  An undefined\u001b[39;00m\n\u001b[0;32m     77\u001b[0m \u001b[39m# __api_version__ can be understood to mean api version 0.\u001b[39;00m\n\u001b[0;32m     78\u001b[0m \u001b[39m#\u001b[39;00m\n\u001b[0;32m     79\u001b[0m \u001b[39m# This number is not tied to the release version and should change\u001b[39;00m\n\u001b[0;32m     80\u001b[0m \u001b[39m# very rarely.\u001b[39;00m\n\u001b[0;32m     81\u001b[0m __api_version__ \u001b[39m=\u001b[39m \u001b[39m1\u001b[39m\n\u001b[1;32m---> 83\u001b[0m \u001b[39mfrom\u001b[39;00m \u001b[39mtheano\u001b[39;00m \u001b[39mimport\u001b[39;00m scalar, tensor\n\u001b[0;32m     84\u001b[0m \u001b[39mfrom\u001b[39;00m \u001b[39mtheano\u001b[39;00m\u001b[39m.\u001b[39;00m\u001b[39mcompile\u001b[39;00m \u001b[39mimport\u001b[39;00m (\n\u001b[0;32m     85\u001b[0m     In,\n\u001b[0;32m     86\u001b[0m     Mode,\n\u001b[1;32m   (...)\u001b[0m\n\u001b[0;32m     93\u001b[0m     shared,\n\u001b[0;32m     94\u001b[0m )\n\u001b[0;32m     95\u001b[0m \u001b[39mfrom\u001b[39;00m \u001b[39mtheano\u001b[39;00m\u001b[39m.\u001b[39;00m\u001b[39mcompile\u001b[39;00m\u001b[39m.\u001b[39;00m\u001b[39mfunction\u001b[39;00m \u001b[39mimport\u001b[39;00m function, function_dump\n",
      "File \u001b[1;32mc:\\Users\\Sean\\anaconda3\\Lib\\site-packages\\theano\\scalar\\__init__.py:1\u001b[0m\n\u001b[1;32m----> 1\u001b[0m \u001b[39mfrom\u001b[39;00m \u001b[39m.\u001b[39;00m\u001b[39mbasic\u001b[39;00m \u001b[39mimport\u001b[39;00m \u001b[39m*\u001b[39m\n\u001b[0;32m      2\u001b[0m \u001b[39mfrom\u001b[39;00m \u001b[39m.\u001b[39;00m\u001b[39mbasic_scipy\u001b[39;00m \u001b[39mimport\u001b[39;00m \u001b[39m*\u001b[39m\n",
      "File \u001b[1;32mc:\\Users\\Sean\\anaconda3\\Lib\\site-packages\\theano\\scalar\\basic.py:710\u001b[0m\n\u001b[0;32m    706\u001b[0m         \u001b[39mreturn\u001b[39;00m shape_info\n\u001b[0;32m    709\u001b[0m \u001b[39m# Register C code for ViewOp on Scalars.\u001b[39;00m\n\u001b[1;32m--> 710\u001b[0m theano\u001b[39m.\u001b[39mcompile\u001b[39m.\u001b[39mregister_view_op_c_code(\n\u001b[0;32m    711\u001b[0m     Scalar,\n\u001b[0;32m    712\u001b[0m \u001b[39m    \u001b[39m\u001b[39m\"\"\"\u001b[39;00m\n\u001b[0;32m    713\u001b[0m \u001b[39m    %(oname)s = %(iname)s;\u001b[39;00m\n\u001b[0;32m    714\u001b[0m \u001b[39m    \"\"\"\u001b[39;00m,\n\u001b[0;32m    715\u001b[0m     \u001b[39m1\u001b[39m,\n\u001b[0;32m    716\u001b[0m )\n\u001b[0;32m    719\u001b[0m \u001b[39mbool\u001b[39m \u001b[39m=\u001b[39m get_scalar_type(\u001b[39m\"\u001b[39m\u001b[39mbool\u001b[39m\u001b[39m\"\u001b[39m)\n\u001b[0;32m    720\u001b[0m int8 \u001b[39m=\u001b[39m get_scalar_type(\u001b[39m\"\u001b[39m\u001b[39mint8\u001b[39m\u001b[39m\"\u001b[39m)\n",
      "\u001b[1;31mAttributeError\u001b[0m: partially initialized module 'theano' has no attribute 'compile' (most likely due to a circular import)"
     ]
    }
   ],
   "source": [
    "import matplotlib.pyplot as plt\n",
    "import numpy as np\n",
    "import pandas as pd\n",
    "import pymc3 as pm\n",
    "import seaborn as sns\n",
    "sns.set(style=\"darkgrid\", palette=\"muted\")\n",
    "def simulate_linear_data(N, beta_0, beta_1, eps_sigma_sq):\n",
    "   \n",
    "    df = np.random.RandomState(42).choice(np.arange(N) / 100.0, N, replace=False)\n",
    "    eps_mean = 0.0\n",
    "    df[\"y\"] = beta_0 + beta_1*df[\"x\"] + np.random.RandomState(42).normal(\n",
    "    eps_mean, eps_sigma_sq, N\n",
    "    )\n",
    "    return df\n",
    "\n",
    "def glm_mcmc_inference(df, iterations=5000):\n",
    "    basic_model = pm.Model()\n",
    "    with basic_model:\n",
    "\n",
    "        pm.glm.glm(\"y ~ x\", df, family=pm.glm.families.Normal())\n",
    "        start = pm.find_MAP()\n",
    "        step = pm.NUTS()\n",
    "        trace = pm.sample(\n",
    "            iterations, step, start,\n",
    "            random_seed=42, progressbar=True\n",
    "        )\n",
    "    return trace\n",
    "if __name__ == \"__main__\":\n",
    "    beta_0 = 1.0 # Intercept\n",
    "    beta_1 = 2.0 # Slope\n",
    "    N = 200\n",
    "    eps_sigma_sq = 0.5\n",
    "    df = simulate_linear_data(N, beta_0, beta_1, eps_sigma_sq)\n",
    "    sns.lmplot(x=\"x\", y=\"y\", data=df, size=10)\n",
    "    plt.xlim(0.0, 1.0)\n",
    "    trace = glm_mcmc_inference(df, iterations=5000)\n",
    "    pm.traceplot(trace[500:])\n",
    "    plt.show()\n",
    "    sns.lmplot(x=\"x\", y=\"y\", data=df, size=10, fit_reg=False)\n",
    "    plt.xlim(0.0, 1.0)\n",
    "    plt.ylim(0.0, 4.0)\n",
    "    pm.glm.plot_posterior_predictive(trace, samples=100)\n",
    "    x = np.linspace(0, 1, N)\n",
    "    y = beta_0 + beta_1*x\n",
    "    plt.plot(x, y, label=\"True Regression Line\", lw=3., c=\"green\")\n",
    "    plt.legend(loc=0)\n",
    "    plt.show()"
   ]
  }
 ],
 "metadata": {
  "kernelspec": {
   "display_name": "pymc3_env",
   "language": "python",
   "name": "python3"
  },
  "language_info": {
   "codemirror_mode": {
    "name": "ipython",
    "version": 3
   },
   "file_extension": ".py",
   "mimetype": "text/x-python",
   "name": "python",
   "nbconvert_exporter": "python",
   "pygments_lexer": "ipython3",
   "version": "0.0.0"
  },
  "orig_nbformat": 4
 },
 "nbformat": 4,
 "nbformat_minor": 2
}
