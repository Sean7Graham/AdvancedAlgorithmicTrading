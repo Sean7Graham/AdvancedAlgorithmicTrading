{
 "cells": [
  {
   "cell_type": "code",
   "execution_count": 2,
   "metadata": {},
   "outputs": [],
   "source": [
    "import matplotlib.pyplot as plt\n",
    "import numpy as np\n",
    "import pandas as pd\n",
    "import pymc3 as pm\n",
    "import seaborn as sns\n",
    "sns.set(style=\"darkgrid\", palette=\"muted\")\n",
    "def simulate_linear_data(N, beta_0, beta_1, eps_sigma_sq):\n",
    "    \"\"\"\n",
    "    Simulate a random dataset using a noisy\n",
    "    linear process.\n",
    "    N: Number of data points to simulate\n",
    "    beta_0: Intercept\n",
    "    beta_1: Slope of univariate predictor, X\n",
    "    \"\"\"\n",
    "    # Create a pandas DataFrame with column ’x’ containing\n",
    "    # N uniformly sampled values between 0.0 and 1.0\n",
    "    df = pd.DataFrame(\n",
    "        {\"x\":\n",
    "            np.random.RandomState(42).choice(\n",
    "                map(\n",
    "                    lambda x: float(x)/100.0,\n",
    "                    np.arange(N)\n",
    "                ), N, replace=False\n",
    "            )\n",
    "        }\n",
    "    )\n",
    "    # Use a linear model (y ~ beta_0 + beta_1*x + epsilon) to\n",
    "    # generate a column ’y’ of responses based on ’x’\n",
    "    eps_mean = 0.0\n",
    "    df[\"y\"] = beta_0 + beta_1*df[\"x\"] + np.random.RandomState(42).normal(\n",
    "    eps_mean, eps_sigma_sq, N\n",
    "    )\n",
    "    return df"
   ]
  }
 ],
 "metadata": {
  "kernelspec": {
   "display_name": "pymc3_env",
   "language": "python",
   "name": "python3"
  },
  "language_info": {
   "codemirror_mode": {
    "name": "ipython",
    "version": 3
   },
   "file_extension": ".py",
   "mimetype": "text/x-python",
   "name": "python",
   "nbconvert_exporter": "python",
   "pygments_lexer": "ipython3",
   "version": "3.8.17"
  },
  "orig_nbformat": 4
 },
 "nbformat": 4,
 "nbformat_minor": 2
}
