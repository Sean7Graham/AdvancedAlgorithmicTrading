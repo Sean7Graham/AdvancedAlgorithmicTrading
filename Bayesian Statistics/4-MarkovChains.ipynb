{
 "cells": [
  {
   "cell_type": "code",
   "execution_count": null,
   "metadata": {},
   "outputs": [],
   "source": [
    "import matplotlib.pyplot as plt\n",
    "import numpy as np\n",
    "import pymc3\n",
    "import scipy.stats as stats\n",
    "\n",
    "plt.style.use(\"ggplot\")\n",
    "\n",
    "n = 50\n",
    "z = 10\n",
    "alpha = 12\n",
    "beta = 12\n",
    "alpha_post = 22\n",
    "beta_post = 52\n",
    "\n",
    "iterations = 100000\n",
    "\n",
    "basic_model = pymc3.Model()\n",
    "\n",
    "with basic_model:\n",
    "\n",
    "    theta = pymc3.Beta(\"theta\", alpha=alpha, beta=beta)\n",
    "    y = pymc3.Binomial(\"y\", n=n, p=theta, observed=z)\n",
    "\n",
    "    start = pymc3.find_MAP()\n",
    "    step = pymc3.Metropolis()\n",
    "    trace = pymc3.sample(\n",
    "    iterations, step, start, random_seed=1, progressbar=True\n",
    ")\n",
    "bins=50\n",
    "plt.hist(\n",
    "    trace[\"theta\"], bins,\n",
    "    histtype=\"step\", normed=True,\n",
    "    label=\"Posterior (MCMC)\", color=\"red\"\n",
    ")\n",
    "\n",
    "x = np.linspace(0, 1, 100)\n",
    "plt.plot(\n",
    "x, stats.beta.pdf(x, alpha, beta),\n",
    "\"--\", label=\"Prior\", color=\"blue\"\n",
    ")\n",
    "\n",
    "plt.plot(\n",
    "x, stats.beta.pdf(x, alpha_post, beta_post),\n",
    "    label='Posterior (Analytic)', color=\"green\"\n",
    ")\n",
    "\n",
    "plt.legend(title=\"Parameters\", loc=\"best\")\n",
    "plt.xlabel(\"$\\\\theta$, Fairness\")\n",
    "plt.ylabel(\"Density\")\n",
    "plt.show()\n",
    "\n",
    "pymc3.traceplot(trace)\n",
    "plt.show()\n",
    "    "
   ]
  },
  {
   "cell_type": "code",
   "execution_count": null,
   "metadata": {},
   "outputs": [],
   "source": []
  }
 ],
 "metadata": {
  "kernelspec": {
   "display_name": "base",
   "language": "python",
   "name": "python3"
  },
  "language_info": {
   "codemirror_mode": {
    "name": "ipython",
    "version": 3
   },
   "file_extension": ".py",
   "mimetype": "text/x-python",
   "name": "python",
   "nbconvert_exporter": "python",
   "pygments_lexer": "ipython3",
   "version": "3.10.9"
  },
  "orig_nbformat": 4
 },
 "nbformat": 4,
 "nbformat_minor": 2
}
