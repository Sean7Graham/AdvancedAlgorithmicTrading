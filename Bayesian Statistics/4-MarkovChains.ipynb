{
 "cells": [
  {
   "cell_type": "code",
   "execution_count": 6,
   "metadata": {},
   "outputs": [
    {
     "name": "stdout",
     "output_type": "stream",
     "text": [
      "!!!!!!!!!!!!!!!!!!!!!!!!!!!!!!!!!!!!!!!!!!!!!!!!!!!!!!!!!!!!\n",
      "The installed Theano(-PyMC) version (1.0.5) does not match the PyMC3 requirements.\n",
      "It was imported from ['c:\\\\Users\\\\Sean\\\\anaconda3\\\\lib\\\\site-packages\\\\theano']\n",
      "For PyMC3 to work, a compatible Theano-PyMC backend version must be installed.\n",
      "See https://github.com/pymc-devs/pymc3/wiki for installation instructions.\n",
      "!!!!!!!!!!!!!!!!!!!!!!!!!!!!!!!!!!!!!!!!!!!!!!!!!!!!!!!!!!!!\n"
     ]
    },
    {
     "ename": "AttributeError",
     "evalue": "'TheanoConfigParser' object has no attribute 'gcc__cxxflags'",
     "output_type": "error",
     "traceback": [
      "\u001b[1;31m---------------------------------------------------------------------------\u001b[0m",
      "\u001b[1;31mAttributeError\u001b[0m                            Traceback (most recent call last)",
      "\u001b[1;32mc:\\Users\\Sean\\OneDrive\\Engineering\\Python\\AdvancedAlgorithmicTrading\\Bayesian Statistics\\4-MarkovChains.ipynb Cell 1\u001b[0m line \u001b[0;36m3\n\u001b[0;32m      <a href='vscode-notebook-cell:/c%3A/Users/Sean/OneDrive/Engineering/Python/AdvancedAlgorithmicTrading/Bayesian%20Statistics/4-MarkovChains.ipynb#W0sZmlsZQ%3D%3D?line=0'>1</a>\u001b[0m \u001b[39mimport\u001b[39;00m \u001b[39mmatplotlib\u001b[39;00m\u001b[39m.\u001b[39;00m\u001b[39mpyplot\u001b[39;00m \u001b[39mas\u001b[39;00m \u001b[39mplt\u001b[39;00m\n\u001b[0;32m      <a href='vscode-notebook-cell:/c%3A/Users/Sean/OneDrive/Engineering/Python/AdvancedAlgorithmicTrading/Bayesian%20Statistics/4-MarkovChains.ipynb#W0sZmlsZQ%3D%3D?line=1'>2</a>\u001b[0m \u001b[39mimport\u001b[39;00m \u001b[39mnumpy\u001b[39;00m \u001b[39mas\u001b[39;00m \u001b[39mnp\u001b[39;00m\n\u001b[1;32m----> <a href='vscode-notebook-cell:/c%3A/Users/Sean/OneDrive/Engineering/Python/AdvancedAlgorithmicTrading/Bayesian%20Statistics/4-MarkovChains.ipynb#W0sZmlsZQ%3D%3D?line=2'>3</a>\u001b[0m \u001b[39mimport\u001b[39;00m \u001b[39mpymc3\u001b[39;00m\n\u001b[0;32m      <a href='vscode-notebook-cell:/c%3A/Users/Sean/OneDrive/Engineering/Python/AdvancedAlgorithmicTrading/Bayesian%20Statistics/4-MarkovChains.ipynb#W0sZmlsZQ%3D%3D?line=3'>4</a>\u001b[0m \u001b[39mimport\u001b[39;00m \u001b[39mscipy\u001b[39;00m\u001b[39m.\u001b[39;00m\u001b[39mstats\u001b[39;00m \u001b[39mas\u001b[39;00m \u001b[39mstats\u001b[39;00m\n\u001b[0;32m      <a href='vscode-notebook-cell:/c%3A/Users/Sean/OneDrive/Engineering/Python/AdvancedAlgorithmicTrading/Bayesian%20Statistics/4-MarkovChains.ipynb#W0sZmlsZQ%3D%3D?line=5'>6</a>\u001b[0m plt\u001b[39m.\u001b[39mstyle\u001b[39m.\u001b[39muse(\u001b[39m\"\u001b[39m\u001b[39mggplot\u001b[39m\u001b[39m\"\u001b[39m)\n",
      "File \u001b[1;32mc:\\Users\\Sean\\anaconda3\\lib\\site-packages\\pymc3\\__init__.py:79\u001b[0m\n\u001b[0;32m     75\u001b[0m         \u001b[39mpass\u001b[39;00m\n\u001b[0;32m     78\u001b[0m _check_backend_version()\n\u001b[1;32m---> 79\u001b[0m __set_compiler_flags()\n\u001b[0;32m     80\u001b[0m _hotfix_theano_printing()\n\u001b[0;32m     82\u001b[0m \u001b[39mfrom\u001b[39;00m \u001b[39mpymc3\u001b[39;00m \u001b[39mimport\u001b[39;00m gp, ode, sampling\n",
      "File \u001b[1;32mc:\\Users\\Sean\\anaconda3\\lib\\site-packages\\pymc3\\__init__.py:61\u001b[0m, in \u001b[0;36m__set_compiler_flags\u001b[1;34m()\u001b[0m\n\u001b[0;32m     59\u001b[0m \u001b[39mdef\u001b[39;00m \u001b[39m__set_compiler_flags\u001b[39m():\n\u001b[0;32m     60\u001b[0m     \u001b[39m# Workarounds for Theano compiler problems on various platforms\u001b[39;00m\n\u001b[1;32m---> 61\u001b[0m     current \u001b[39m=\u001b[39m theano\u001b[39m.\u001b[39;49mconfig\u001b[39m.\u001b[39;49mgcc__cxxflags\n\u001b[0;32m     62\u001b[0m     theano\u001b[39m.\u001b[39mconfig\u001b[39m.\u001b[39mgcc__cxxflags \u001b[39m=\u001b[39m \u001b[39mf\u001b[39m\u001b[39m\"\u001b[39m\u001b[39m{\u001b[39;00mcurrent\u001b[39m}\u001b[39;00m\u001b[39m -Wno-c++11-narrowing\u001b[39m\u001b[39m\"\u001b[39m\n",
      "\u001b[1;31mAttributeError\u001b[0m: 'TheanoConfigParser' object has no attribute 'gcc__cxxflags'"
     ]
    }
   ],
   "source": [
    "import matplotlib.pyplot as plt\n",
    "import numpy as np\n",
    "import pymc3\n",
    "import scipy.stats as stats\n",
    "\n",
    "plt.style.use(\"ggplot\")\n",
    "\n",
    "n = 50\n",
    "z = 10\n",
    "alpha = 12\n",
    "beta = 12\n",
    "alpha_post = 22\n",
    "beta_post = 52\n",
    "\n",
    "iterations = 100000\n",
    "\n",
    "basic_model = pymc3.Model()\n",
    "\n",
    "with basic_model:\n",
    "\n",
    "    theta = pymc3.Beta(\"theta\", alpha=alpha, beta=beta)\n",
    "    y = pymc3.Binomial(\"y\", n=n, p=theta, observed=z)\n",
    "\n",
    "    start = pymc3.find_MAP()\n",
    "    step = pymc3.Metropolis()\n",
    "    trace = pymc3.sample(\n",
    "    iterations, step, start, random_seed=1, progressbar=True\n",
    ")\n",
    "bins=50\n",
    "plt.hist(\n",
    "    trace[\"theta\"], bins,\n",
    "    histtype=\"step\", normed=True,\n",
    "    label=\"Posterior (MCMC)\", color=\"red\"\n",
    ")\n",
    "\n",
    "x = np.linspace(0, 1, 100)\n",
    "plt.plot(\n",
    "x, stats.beta.pdf(x, alpha, beta),\n",
    "\"--\", label=\"Prior\", color=\"blue\"\n",
    ")\n",
    "\n",
    "plt.plot(\n",
    "x, stats.beta.pdf(x, alpha_post, beta_post),\n",
    "    label='Posterior (Analytic)', color=\"green\"\n",
    ")\n",
    "\n",
    "plt.legend(title=\"Parameters\", loc=\"best\")\n",
    "plt.xlabel(\"$\\\\theta$, Fairness\")\n",
    "plt.ylabel(\"Density\")\n",
    "plt.show()\n",
    "\n",
    "pymc3.traceplot(trace)\n",
    "plt.show()\n",
    "    "
   ]
  },
  {
   "cell_type": "code",
   "execution_count": null,
   "metadata": {},
   "outputs": [],
   "source": []
  }
 ],
 "metadata": {
  "kernelspec": {
   "display_name": "base",
   "language": "python",
   "name": "python3"
  },
  "language_info": {
   "codemirror_mode": {
    "name": "ipython",
    "version": 3
   },
   "file_extension": ".py",
   "mimetype": "text/x-python",
   "name": "python",
   "nbconvert_exporter": "python",
   "pygments_lexer": "ipython3",
   "version": "3.10.9"
  },
  "orig_nbformat": 4
 },
 "nbformat": 4,
 "nbformat_minor": 2
}
