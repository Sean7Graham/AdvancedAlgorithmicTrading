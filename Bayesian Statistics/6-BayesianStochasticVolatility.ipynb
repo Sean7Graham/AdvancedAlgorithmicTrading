{
 "cells": [
  {
   "cell_type": "code",
   "execution_count": 9,
   "metadata": {},
   "outputs": [
    {
     "name": "stdout",
     "output_type": "stream",
     "text": [
      "Downloading and plotting AMZN log returns...\n"
     ]
    },
    {
     "ename": "TypeError",
     "evalue": "string indices must be integers",
     "output_type": "error",
     "traceback": [
      "\u001b[1;31m---------------------------------------------------------------------------\u001b[0m",
      "\u001b[1;31mTypeError\u001b[0m                                 Traceback (most recent call last)",
      "\u001b[1;32mc:\\Users\\Sean\\OneDrive\\Engineering\\Python\\AdvancedAlgorithmicTrading\\Bayesian Statistics\\6-BayesianStochasticVolatility.ipynb Cell 1\u001b[0m line \u001b[0;36m6\n\u001b[0;32m     <a href='vscode-notebook-cell:/c%3A/Users/Sean/OneDrive/Engineering/Python/AdvancedAlgorithmicTrading/Bayesian%20Statistics/6-BayesianStochasticVolatility.ipynb#W0sZmlsZQ%3D%3D?line=58'>59</a>\u001b[0m end_date \u001b[39m=\u001b[39m datetime\u001b[39m.\u001b[39mdatetime(\u001b[39m2015\u001b[39m, \u001b[39m12\u001b[39m, \u001b[39m31\u001b[39m)\n\u001b[0;32m     <a href='vscode-notebook-cell:/c%3A/Users/Sean/OneDrive/Engineering/Python/AdvancedAlgorithmicTrading/Bayesian%20Statistics/6-BayesianStochasticVolatility.ipynb#W0sZmlsZQ%3D%3D?line=59'>60</a>\u001b[0m \u001b[39m# Obtain and plot the logarithmic returns of Amazon prices\u001b[39;00m\n\u001b[1;32m---> <a href='vscode-notebook-cell:/c%3A/Users/Sean/OneDrive/Engineering/Python/AdvancedAlgorithmicTrading/Bayesian%20Statistics/6-BayesianStochasticVolatility.ipynb#W0sZmlsZQ%3D%3D?line=60'>61</a>\u001b[0m amzn_df \u001b[39m=\u001b[39m obtain_plot_amazon_prices_dataframe(start_date, end_date)\n\u001b[0;32m     <a href='vscode-notebook-cell:/c%3A/Users/Sean/OneDrive/Engineering/Python/AdvancedAlgorithmicTrading/Bayesian%20Statistics/6-BayesianStochasticVolatility.ipynb#W0sZmlsZQ%3D%3D?line=61'>62</a>\u001b[0m log_returns \u001b[39m=\u001b[39m np\u001b[39m.\u001b[39marray(amzn_df[\u001b[39m\"\u001b[39m\u001b[39mlog_returns\u001b[39m\u001b[39m\"\u001b[39m])\n\u001b[0;32m     <a href='vscode-notebook-cell:/c%3A/Users/Sean/OneDrive/Engineering/Python/AdvancedAlgorithmicTrading/Bayesian%20Statistics/6-BayesianStochasticVolatility.ipynb#W0sZmlsZQ%3D%3D?line=62'>63</a>\u001b[0m \u001b[39m# Configure the stochastic volatility model and carry out\u001b[39;00m\n\u001b[0;32m     <a href='vscode-notebook-cell:/c%3A/Users/Sean/OneDrive/Engineering/Python/AdvancedAlgorithmicTrading/Bayesian%20Statistics/6-BayesianStochasticVolatility.ipynb#W0sZmlsZQ%3D%3D?line=63'>64</a>\u001b[0m \u001b[39m# MCMC sampling using NUTS, plotting the trace\u001b[39;00m\n",
      "\u001b[1;32mc:\\Users\\Sean\\OneDrive\\Engineering\\Python\\AdvancedAlgorithmicTrading\\Bayesian Statistics\\6-BayesianStochasticVolatility.ipynb Cell 1\u001b[0m line \u001b[0;36m1\n\u001b[0;32m     <a href='vscode-notebook-cell:/c%3A/Users/Sean/OneDrive/Engineering/Python/AdvancedAlgorithmicTrading/Bayesian%20Statistics/6-BayesianStochasticVolatility.ipynb#W0sZmlsZQ%3D%3D?line=10'>11</a>\u001b[0m \u001b[39mdef\u001b[39;00m \u001b[39mobtain_plot_amazon_prices_dataframe\u001b[39m(start_date, end_date):\n\u001b[0;32m     <a href='vscode-notebook-cell:/c%3A/Users/Sean/OneDrive/Engineering/Python/AdvancedAlgorithmicTrading/Bayesian%20Statistics/6-BayesianStochasticVolatility.ipynb#W0sZmlsZQ%3D%3D?line=12'>13</a>\u001b[0m     \u001b[39mprint\u001b[39m(\u001b[39m\"\u001b[39m\u001b[39mDownloading and plotting AMZN log returns...\u001b[39m\u001b[39m\"\u001b[39m)\n\u001b[1;32m---> <a href='vscode-notebook-cell:/c%3A/Users/Sean/OneDrive/Engineering/Python/AdvancedAlgorithmicTrading/Bayesian%20Statistics/6-BayesianStochasticVolatility.ipynb#W0sZmlsZQ%3D%3D?line=13'>14</a>\u001b[0m     amzn \u001b[39m=\u001b[39m pdr\u001b[39m.\u001b[39;49mget_data_yahoo(\u001b[39m\"\u001b[39;49m\u001b[39mAMZN\u001b[39;49m\u001b[39m\"\u001b[39;49m, start_date, end_date)\n\u001b[0;32m     <a href='vscode-notebook-cell:/c%3A/Users/Sean/OneDrive/Engineering/Python/AdvancedAlgorithmicTrading/Bayesian%20Statistics/6-BayesianStochasticVolatility.ipynb#W0sZmlsZQ%3D%3D?line=14'>15</a>\u001b[0m     amzn[\u001b[39m\"\u001b[39m\u001b[39mreturns\u001b[39m\u001b[39m\"\u001b[39m] \u001b[39m=\u001b[39m amzn[\u001b[39m\"\u001b[39m\u001b[39mAdj Close\u001b[39m\u001b[39m\"\u001b[39m]\u001b[39m/\u001b[39mamzn[\u001b[39m\"\u001b[39m\u001b[39mAdj Close\u001b[39m\u001b[39m\"\u001b[39m]\u001b[39m.\u001b[39mshift(\u001b[39m1\u001b[39m)\n\u001b[0;32m     <a href='vscode-notebook-cell:/c%3A/Users/Sean/OneDrive/Engineering/Python/AdvancedAlgorithmicTrading/Bayesian%20Statistics/6-BayesianStochasticVolatility.ipynb#W0sZmlsZQ%3D%3D?line=15'>16</a>\u001b[0m     amzn\u001b[39m.\u001b[39mdropna(inplace\u001b[39m=\u001b[39m\u001b[39mTrue\u001b[39;00m)\n",
      "File \u001b[1;32mc:\\Users\\Sean\\anaconda3\\envs\\pymc3_env\\lib\\site-packages\\pandas_datareader\\data.py:80\u001b[0m, in \u001b[0;36mget_data_yahoo\u001b[1;34m(*args, **kwargs)\u001b[0m\n\u001b[0;32m     79\u001b[0m \u001b[39mdef\u001b[39;00m \u001b[39mget_data_yahoo\u001b[39m(\u001b[39m*\u001b[39margs, \u001b[39m*\u001b[39m\u001b[39m*\u001b[39mkwargs):\n\u001b[1;32m---> 80\u001b[0m     \u001b[39mreturn\u001b[39;00m YahooDailyReader(\u001b[39m*\u001b[39;49margs, \u001b[39m*\u001b[39;49m\u001b[39m*\u001b[39;49mkwargs)\u001b[39m.\u001b[39;49mread()\n",
      "File \u001b[1;32mc:\\Users\\Sean\\anaconda3\\envs\\pymc3_env\\lib\\site-packages\\pandas_datareader\\base.py:253\u001b[0m, in \u001b[0;36m_DailyBaseReader.read\u001b[1;34m(self)\u001b[0m\n\u001b[0;32m    251\u001b[0m \u001b[39m# If a single symbol, (e.g., 'GOOG')\u001b[39;00m\n\u001b[0;32m    252\u001b[0m \u001b[39mif\u001b[39;00m \u001b[39misinstance\u001b[39m(\u001b[39mself\u001b[39m\u001b[39m.\u001b[39msymbols, (string_types, \u001b[39mint\u001b[39m)):\n\u001b[1;32m--> 253\u001b[0m     df \u001b[39m=\u001b[39m \u001b[39mself\u001b[39;49m\u001b[39m.\u001b[39;49m_read_one_data(\u001b[39mself\u001b[39;49m\u001b[39m.\u001b[39;49murl, params\u001b[39m=\u001b[39;49m\u001b[39mself\u001b[39;49m\u001b[39m.\u001b[39;49m_get_params(\u001b[39mself\u001b[39;49m\u001b[39m.\u001b[39;49msymbols))\n\u001b[0;32m    254\u001b[0m \u001b[39m# Or multiple symbols, (e.g., ['GOOG', 'AAPL', 'MSFT'])\u001b[39;00m\n\u001b[0;32m    255\u001b[0m \u001b[39melif\u001b[39;00m \u001b[39misinstance\u001b[39m(\u001b[39mself\u001b[39m\u001b[39m.\u001b[39msymbols, DataFrame):\n",
      "File \u001b[1;32mc:\\Users\\Sean\\anaconda3\\envs\\pymc3_env\\lib\\site-packages\\pandas_datareader\\yahoo\\daily.py:153\u001b[0m, in \u001b[0;36mYahooDailyReader._read_one_data\u001b[1;34m(self, url, params)\u001b[0m\n\u001b[0;32m    151\u001b[0m \u001b[39mtry\u001b[39;00m:\n\u001b[0;32m    152\u001b[0m     j \u001b[39m=\u001b[39m json\u001b[39m.\u001b[39mloads(re\u001b[39m.\u001b[39msearch(ptrn, resp\u001b[39m.\u001b[39mtext, re\u001b[39m.\u001b[39mDOTALL)\u001b[39m.\u001b[39mgroup(\u001b[39m1\u001b[39m))\n\u001b[1;32m--> 153\u001b[0m     data \u001b[39m=\u001b[39m j[\u001b[39m\"\u001b[39;49m\u001b[39mcontext\u001b[39;49m\u001b[39m\"\u001b[39;49m][\u001b[39m\"\u001b[39;49m\u001b[39mdispatcher\u001b[39;49m\u001b[39m\"\u001b[39;49m][\u001b[39m\"\u001b[39;49m\u001b[39mstores\u001b[39;49m\u001b[39m\"\u001b[39;49m][\u001b[39m\"\u001b[39;49m\u001b[39mHistoricalPriceStore\u001b[39;49m\u001b[39m\"\u001b[39;49m]\n\u001b[0;32m    154\u001b[0m \u001b[39mexcept\u001b[39;00m \u001b[39mKeyError\u001b[39;00m:\n\u001b[0;32m    155\u001b[0m     msg \u001b[39m=\u001b[39m \u001b[39m\"\u001b[39m\u001b[39mNo data fetched for symbol \u001b[39m\u001b[39m{}\u001b[39;00m\u001b[39m using \u001b[39m\u001b[39m{}\u001b[39;00m\u001b[39m\"\u001b[39m\n",
      "\u001b[1;31mTypeError\u001b[0m: string indices must be integers"
     ]
    }
   ],
   "source": [
    "# pymc3_bayes_stochastic_vol.py\n",
    "import datetime\n",
    "import pprint\n",
    "import matplotlib.pyplot as plt\n",
    "import numpy as np\n",
    "import pandas as pd\n",
    "import pandas_datareader as pdr\n",
    "import pymc3 as pm\n",
    "from pymc3.distributions.timeseries import GaussianRandomWalk\n",
    "import seaborn as sns\n",
    "def obtain_plot_amazon_prices_dataframe(start_date, end_date):\n",
    "\n",
    "    print(\"Downloading and plotting AMZN log returns...\")\n",
    "    amzn = pdr.get_data_yahoo(\"AMZN\", start_date, end_date)\n",
    "    amzn[\"returns\"] = amzn[\"Adj Close\"]/amzn[\"Adj Close\"].shift(1)\n",
    "    amzn.dropna(inplace=True)\n",
    "    amzn[\"log_returns\"] = np.log(amzn[\"returns\"])\n",
    "    amzn[\"log_returns\"].plot(linewidth=0.5)\n",
    "    plt.ylabel(\"AMZN daily percentage returns\")\n",
    "    plt.show()\n",
    "    return amzn\n",
    "    \n",
    "def configure_sample_stoch_vol_model(log_returns, samples):\n",
    "\n",
    "    print(\"Configuring stochastic volatility with PyMC3...\")\n",
    "    model = pm.Model()\n",
    "    with model:\n",
    "        sigma = pm.Exponential('sigma', 50.0, testval=0.1)\n",
    "        nu = pm.Exponential('nu', 0.1)\n",
    "        s = GaussianRandomWalk('s', sigma**-2, shape=len(log_returns))\n",
    "        logrets = pm.StudentT(\n",
    "        'logrets', nu,\n",
    "        lam=pm.math.exp(-2.0*s),\n",
    "        observed=log_returns\n",
    "        )\n",
    "    print(\"Fitting the stochastic volatility model...\")\n",
    "    with model:\n",
    "        trace = pm.sample(samples)\n",
    "    pm.traceplot(trace, model.vars[:-1])\n",
    "    plt.show()\n",
    "    print(\"Plotting the log volatility...\")\n",
    "    k = 10\n",
    "    opacity = 0.03\n",
    "    plt.plot(trace[int(s)][::k].T, 'b', alpha=opacity)\n",
    "\n",
    "    plt.xlabel('Time')\n",
    "    plt.ylabel('Log Volatility')\n",
    "    plt.show()\n",
    "    print(\"Plotting the absolute returns overlaid with vol...\")\n",
    "    plt.plot(np.abs(np.exp(log_returns))-1.0, linewidth=0.5)\n",
    "    plt.plot(np.exp(trace[s][::k].T), 'r', alpha=opacity)\n",
    "    plt.xlabel(\"Trading Days\")\n",
    "    plt.ylabel(\"Absolute Returns/Volatility\")\n",
    "    plt.show()\n",
    "    \n",
    "if __name__ == \"__main__\":\n",
    "    # State the starting and ending dates of the AMZN returns\n",
    "    start_date = datetime.datetime(2006, 1, 1)\n",
    "    end_date = datetime.datetime(2015, 12, 31)\n",
    "    # Obtain and plot the logarithmic returns of Amazon prices\n",
    "    amzn_df = obtain_plot_amazon_prices_dataframe(start_date, end_date)\n",
    "    log_returns = np.array(amzn_df[\"log_returns\"])\n",
    "    # Configure the stochastic volatility model and carry out\n",
    "    # MCMC sampling using NUTS, plotting the trace\n",
    "    samples = 2000\n",
    "    configure_sample_stoch_vol_model(log_returns, samples)"
   ]
  }
 ],
 "metadata": {
  "kernelspec": {
   "display_name": "pymc3_env",
   "language": "python",
   "name": "python3"
  },
  "language_info": {
   "codemirror_mode": {
    "name": "ipython",
    "version": 3
   },
   "file_extension": ".py",
   "mimetype": "text/x-python",
   "name": "python",
   "nbconvert_exporter": "python",
   "pygments_lexer": "ipython3",
   "version": "3.8.17"
  },
  "orig_nbformat": 4
 },
 "nbformat": 4,
 "nbformat_minor": 2
}
