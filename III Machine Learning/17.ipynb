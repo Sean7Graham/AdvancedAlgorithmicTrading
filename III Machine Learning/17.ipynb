{
 "cells": [
  {
   "cell_type": "code",
   "execution_count": 3,
   "metadata": {},
   "outputs": [
    {
     "data": {
      "text/plain": [
       "<Figure size 640x480 with 0 Axes>"
      ]
     },
     "metadata": {},
     "output_type": "display_data"
    }
   ],
   "source": [
    "# lin_reg_distribution_plot.py\n",
    "from matplotlib import cm\n",
    "from matplotlib.ticker import LinearLocator, FormatStrFormatter\n",
    "import matplotlib.pyplot as plt\n",
    "from mpl_toolkits.mplot3d import Axes3D\n",
    "import numpy as np\n",
    "from scipy.stats import norm\n",
    "if __name__ == \"__main__\":\n",
    "    # Set up the X and Y dimensions\n",
    "    fig = plt.figure()\n",
    "    ax = Axes3D(fig)\n",
    "    X = np.arange(0, 20, 0.25)\n",
    "    Y = np.arange(-10, 10, 0.25)\n",
    "    X, Y = np.meshgrid(X, Y)\n",
    "\n",
    "    # Create the univarate normal coefficients\n",
    "    # of intercept and slope, as well as the\n",
    "    # conditional probability density\n",
    "    beta0 = -5.0\n",
    "    beta1 = 0.5\n",
    "    Z = norm.pdf(Y, beta0 + beta1*X, 1.0)\n",
    "    # Plot the surface with the \"coolwarm\" colormap\n",
    "    surf = ax.plot_surface(\n",
    "    X, Y, Z, rstride=1, cstride=1, cmap=cm.coolwarm,\n",
    "    linewidth=0, antialiased=False\n",
    "    )\n",
    "    # Set the limits of the z axis and major line locators\n",
    "    ax.set_zlim(0, 0.4)\n",
    "    ax.zaxis.set_major_locator(LinearLocator(5))\n",
    "    ax.zaxis.set_major_formatter(FormatStrFormatter('%.02f'))\n",
    "    # Label all of the axes\n",
    "    ax.set_xlabel('X')\n",
    "    ax.set_ylabel('Y')\n",
    "    ax.set_zlabel('P(Y|X)')\n",
    "    # Adjust the viewing angle and axes direction\n",
    "    ax.view_init(elev=30., azim=50.0)\n",
    "    ax.invert_xaxis()\n",
    "    ax.invert_yaxis()\n",
    "    # Plot the probability density\n",
    "    plt.show()"
   ]
  }
 ],
 "metadata": {
  "kernelspec": {
   "display_name": "pymc3_env",
   "language": "python",
   "name": "python3"
  },
  "language_info": {
   "codemirror_mode": {
    "name": "ipython",
    "version": 3
   },
   "file_extension": ".py",
   "mimetype": "text/x-python",
   "name": "python",
   "nbconvert_exporter": "python",
   "pygments_lexer": "ipython3",
   "version": "3.8.18"
  },
  "orig_nbformat": 4
 },
 "nbformat": 4,
 "nbformat_minor": 2
}
