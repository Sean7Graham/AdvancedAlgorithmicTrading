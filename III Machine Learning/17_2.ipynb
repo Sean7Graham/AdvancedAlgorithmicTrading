{
 "cells": [
  {
   "cell_type": "code",
   "execution_count": 8,
   "metadata": {},
   "outputs": [
    {
     "ename": "ModuleNotFoundError",
     "evalue": "No module named 'sklearn'",
     "output_type": "error",
     "traceback": [
      "\u001b[1;31m---------------------------------------------------------------------------\u001b[0m",
      "\u001b[1;31mModuleNotFoundError\u001b[0m                       Traceback (most recent call last)",
      "\u001b[1;32mc:\\Users\\Sean\\OneDrive\\Engineering\\Python\\AdvancedAlgorithmicTrading\\III Machine Learning\\17_2.ipynb Cell 1\u001b[0m line \u001b[0;36m5\n\u001b[0;32m      <a href='vscode-notebook-cell:/c%3A/Users/Sean/OneDrive/Engineering/Python/AdvancedAlgorithmicTrading/III%20Machine%20Learning/17_2.ipynb#W0sZmlsZQ%3D%3D?line=2'>3</a>\u001b[0m \u001b[39mimport\u001b[39;00m \u001b[39mnumpy\u001b[39;00m \u001b[39mas\u001b[39;00m \u001b[39mnp\u001b[39;00m\n\u001b[0;32m      <a href='vscode-notebook-cell:/c%3A/Users/Sean/OneDrive/Engineering/Python/AdvancedAlgorithmicTrading/III%20Machine%20Learning/17_2.ipynb#W0sZmlsZQ%3D%3D?line=3'>4</a>\u001b[0m \u001b[39mimport\u001b[39;00m \u001b[39mseaborn\u001b[39;00m \u001b[39mas\u001b[39;00m \u001b[39msns\u001b[39;00m\n\u001b[1;32m----> <a href='vscode-notebook-cell:/c%3A/Users/Sean/OneDrive/Engineering/Python/AdvancedAlgorithmicTrading/III%20Machine%20Learning/17_2.ipynb#W0sZmlsZQ%3D%3D?line=4'>5</a>\u001b[0m \u001b[39mfrom\u001b[39;00m \u001b[39msklearn\u001b[39;00m \u001b[39mimport\u001b[39;00m linear_model\n\u001b[0;32m      <a href='vscode-notebook-cell:/c%3A/Users/Sean/OneDrive/Engineering/Python/AdvancedAlgorithmicTrading/III%20Machine%20Learning/17_2.ipynb#W0sZmlsZQ%3D%3D?line=5'>6</a>\u001b[0m \u001b[39mif\u001b[39;00m \u001b[39m__name__\u001b[39m \u001b[39m==\u001b[39m \u001b[39m\"\u001b[39m\u001b[39m__main__\u001b[39m\u001b[39m\"\u001b[39m:\n\u001b[0;32m      <a href='vscode-notebook-cell:/c%3A/Users/Sean/OneDrive/Engineering/Python/AdvancedAlgorithmicTrading/III%20Machine%20Learning/17_2.ipynb#W0sZmlsZQ%3D%3D?line=7'>8</a>\u001b[0m     N \u001b[39m=\u001b[39m \u001b[39m500\u001b[39m\n",
      "\u001b[1;31mModuleNotFoundError\u001b[0m: No module named 'sklearn'"
     ]
    }
   ],
   "source": [
    "# lin_reg_sklearn.py\n",
    "import matplotlib.pyplot as plt\n",
    "import numpy as np\n",
    "import seaborn as sns\n",
    "from sklearn import linear_model\n",
    "if __name__ == \"__main__\":\n",
    "\n",
    "    N = 500\n",
    "    split = int(0.8*N)\n",
    "\n",
    "    alpha = 2.0\n",
    "    beta = 3.0\n",
    "\n",
    "    eps_mu = 0.0\n",
    "    eps_sigma = 30.0\n",
    "\n",
    "    X_mu = 0.0\n",
    "    X_sigma = 10.0\n",
    "\n",
    "    eps = np.random.normal(loc=eps_mu, scale=eps_sigma, size=N)\n",
    "    X = np.random.normal(loc=X_mu, scale=X_sigma, size=N)\n",
    "    y = alpha + beta*X + eps\n",
    "    X = X.reshape(-1, 1)\n",
    "\n",
    "    X_train = X[:split]\n",
    "    X_test = X[split:]\n",
    "    y_train = y[:split]\n",
    "    y_test = y[split:]\n",
    "    \n",
    "    lr_model = linear_model.LinearRegression()\n",
    "    lr_model.fit(X_train, y_train)\n",
    " \n",
    "    print(\n",
    "    \"Estimated intercept, slope: %0.6f, %0.6f\" % (\n",
    "    lr_model.intercept_,\n",
    "    lr_model.coef_[0]\n",
    "    )\n",
    "    )\n",
    "\n",
    "    plt.scatter(X_test, y_test)\n",
    "\n",
    "    plt.plot(\n",
    "    X_test,\n",
    "    lr_model.predict(X_test),\n",
    "    color='black',\n",
    "    linewidth=1.0\n",
    "    )\n",
    "    plt.xlabel(\"X\")\n",
    "    plt.ylabel(\"y\")\n",
    "    plt.show()"
   ]
  }
 ],
 "metadata": {
  "kernelspec": {
   "display_name": "pymc3_env",
   "language": "python",
   "name": "python3"
  },
  "language_info": {
   "codemirror_mode": {
    "name": "ipython",
    "version": 3
   },
   "file_extension": ".py",
   "mimetype": "text/x-python",
   "name": "python",
   "nbconvert_exporter": "python",
   "pygments_lexer": "ipython3",
   "version": "3.8.17"
  },
  "orig_nbformat": 4
 },
 "nbformat": 4,
 "nbformat_minor": 2
}
